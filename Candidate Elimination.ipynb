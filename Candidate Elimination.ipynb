{
 "cells": [
  {
   "cell_type": "code",
   "execution_count": 8,
   "id": "b5e898c6",
   "metadata": {},
   "outputs": [],
   "source": [
    "import numpy as np\n",
    "import pandas as pd\n",
    "from pprint import pprint "
   ]
  },
  {
   "cell_type": "code",
   "execution_count": 9,
   "id": "3b7bcf3c",
   "metadata": {},
   "outputs": [
    {
     "name": "stdout",
     "output_type": "stream",
     "text": [
      "Training examples are:\n",
      "      Sky  Air Temperature  Humidity     Wind  Water  Forecast  Enjoy Sports\n",
      "0  sunny             warm    normal   strong   warm      same           yes\n",
      "1  sunny             warm      high   strong   warm      same           yes\n",
      "2  rainy             cold      high   strong   warm    change            no\n",
      "3  sunny             warm      high   strong   cool    change           yes\n"
     ]
    }
   ],
   "source": [
    "data = pd.read_csv('data.csv')\n",
    "print(\"Training examples are:\\n\", data)"
   ]
  },
  {
   "cell_type": "code",
   "execution_count": 10,
   "id": "2c78eafa",
   "metadata": {},
   "outputs": [
    {
     "name": "stdout",
     "output_type": "stream",
     "text": [
      "Instances are:\n",
      " [['sunny' ' warm' ' normal' ' strong' ' warm' ' same']\n",
      " ['sunny' ' warm' ' high' ' strong' ' warm' ' same']\n",
      " ['rainy' ' cold' ' high' ' strong' ' warm' ' change']\n",
      " ['sunny' ' warm' ' high' ' strong' ' cool' ' change']]\n"
     ]
    }
   ],
   "source": [
    "concepts = np.array(data.iloc[:,0:-1])\n",
    "print(\"Instances are:\\n\", concepts)"
   ]
  },
  {
   "cell_type": "code",
   "execution_count": 11,
   "id": "cead9ad8",
   "metadata": {},
   "outputs": [
    {
     "name": "stdout",
     "output_type": "stream",
     "text": [
      "Taret values are ['yes' 'yes' 'no' 'yes']\n"
     ]
    }
   ],
   "source": [
    "target = np.array(data.iloc[:,-1])\n",
    "print(\"Taret values are\", target)"
   ]
  },
  {
   "cell_type": "code",
   "execution_count": 23,
   "id": "faca96ea",
   "metadata": {},
   "outputs": [
    {
     "name": "stdout",
     "output_type": "stream",
     "text": [
      "Initializing specific_h and general_h:\n",
      "\n",
      "Specific Boundary ['sunny' ' warm' ' normal' ' strong' ' warm' ' same']\n",
      "Generic Boundary [['?', '?', '?', '?', '?', '?'], ['?', '?', '?', '?', '?', '?'], ['?', '?', '?', '?', '?', '?'], ['?', '?', '?', '?', '?', '?'], ['?', '?', '?', '?', '?', '?'], ['?', '?', '?', '?', '?', '?']]\n"
     ]
    }
   ],
   "source": [
    "print(\"Initializing specific_h and genereal_h:\\n\")\n",
    "\n",
    "specific_h = concepts[0].copy()\n",
    "print(\"Specific Boundary\", specific_h)\n",
    "\n",
    "general_h = [[\"?\" for i in range(len(specific_h))]for i in range(len(specific_h))]\n",
    "print(\"Generic Boundary\", general_h)"
   ]
  },
  {
   "cell_type": "code",
   "execution_count": 24,
   "id": "baf73130",
   "metadata": {},
   "outputs": [
    {
     "name": "stdout",
     "output_type": "stream",
     "text": [
      "Instance  1  is:  ['sunny' ' warm' ' normal' ' strong' ' warm' ' same']\n",
      "Positive Instance\n",
      "After  1  instance:\n",
      "Specific Boundary:  ['sunny' ' warm' ' normal' ' strong' ' warm' ' same']\n",
      "Generic Boundary:  [['?', '?', '?', '?', '?', '?'], ['?', '?', '?', '?', '?', '?'], ['?', '?', '?', '?', '?', '?'], ['?', '?', '?', '?', '?', '?'], ['?', '?', '?', '?', '?', '?'], ['?', '?', '?', '?', '?', '?']]\n",
      "\n",
      "\n",
      "Instance  2  is:  ['sunny' ' warm' ' high' ' strong' ' warm' ' same']\n",
      "Positive Instance\n",
      "After  2  instance:\n",
      "Specific Boundary:  ['sunny' ' warm' '?' ' strong' ' warm' ' same']\n",
      "Generic Boundary:  [['?', '?', '?', '?', '?', '?'], ['?', '?', '?', '?', '?', '?'], ['?', '?', '?', '?', '?', '?'], ['?', '?', '?', '?', '?', '?'], ['?', '?', '?', '?', '?', '?'], ['?', '?', '?', '?', '?', '?']]\n",
      "\n",
      "\n",
      "Instance  3  is:  ['rainy' ' cold' ' high' ' strong' ' warm' ' change']\n",
      "Negative Instance\n",
      "After  3  instance:\n",
      "Specific Boundary:  ['sunny' ' warm' '?' ' strong' ' warm' ' same']\n",
      "Generic Boundary:  [['sunny', '?', '?', '?', '?', '?'], ['?', ' warm', '?', '?', '?', '?'], ['?', '?', '?', '?', '?', '?'], ['?', '?', '?', '?', '?', '?'], ['?', '?', '?', '?', '?', '?'], ['?', '?', '?', '?', '?', ' same']]\n",
      "\n",
      "\n",
      "Instance  4  is:  ['sunny' ' warm' ' high' ' strong' ' cool' ' change']\n",
      "Positive Instance\n",
      "After  4  instance:\n",
      "Specific Boundary:  ['sunny' ' warm' '?' ' strong' '?' '?']\n",
      "Generic Boundary:  [['sunny', '?', '?', '?', '?', '?'], ['?', ' warm', '?', '?', '?', '?'], ['?', '?', '?', '?', '?', '?'], ['?', '?', '?', '?', '?', '?'], ['?', '?', '?', '?', '?', '?'], ['?', '?', '?', '?', '?', '?']]\n",
      "\n",
      "\n"
     ]
    }
   ],
   "source": [
    "for i, instance_list in enumerate(concepts):\n",
    "    print(\"Instance \", i+1, \" is: \", instance_list)\n",
    "    \n",
    "    if target[i] == \"yes\":\n",
    "        print(\"Positive Instance\")\n",
    "        for x in range(len(specific_h)):\n",
    "            if instance_list[x] != specific_h[x]:\n",
    "                specific_h[x] = '?'\n",
    "                general_h[x][x] = '?'\n",
    "    \n",
    "    if target[i] == \"no\":\n",
    "        print(\"Negative Instance\")\n",
    "        for x in range(len(specific_h)):\n",
    "            if instance_list[x] != specific_h[x]:\n",
    "                general_h[x][x] = specific_h[x]\n",
    "            else:\n",
    "                general_h[x][x] = '?'\n",
    "                \n",
    "    print(\"After \", i+1, \" instance:\")\n",
    "    print(\"Specific Boundary: \", specific_h)\n",
    "    print(\"Generic Boundary: \", general_h)\n",
    "    print(\"\\n\")"
   ]
  },
  {
   "cell_type": "code",
   "execution_count": 25,
   "id": "9be9d601",
   "metadata": {},
   "outputs": [
    {
     "name": "stdout",
     "output_type": "stream",
     "text": [
      "\n",
      "\n",
      "\n",
      "Final specific_h:  ['sunny' ' warm' '?' ' strong' '?' '?']\n",
      "Final general_h:  [['sunny', '?', '?', '?', '?', '?'], ['?', ' warm', '?', '?', '?', '?']]\n"
     ]
    }
   ],
   "source": [
    "removeThisRedundantValue = ['?' for i in range(len(specific_h))] \n",
    "try: \n",
    "    while True: general_h.remove(removeThisRedundantValue) \n",
    "except ValueError: \n",
    "    pass \n",
    "print(\"\\n\\n\") \n",
    "print(\"Final specific_h: \", specific_h) \n",
    "print(\"Final general_h: \", general_h)"
   ]
  },
  {
   "cell_type": "code",
   "execution_count": null,
   "id": "91752e47",
   "metadata": {},
   "outputs": [],
   "source": []
  }
 ],
 "metadata": {
  "kernelspec": {
   "display_name": "Python 3 (ipykernel)",
   "language": "python",
   "name": "python3"
  },
  "language_info": {
   "codemirror_mode": {
    "name": "ipython",
    "version": 3
   },
   "file_extension": ".py",
   "mimetype": "text/x-python",
   "name": "python",
   "nbconvert_exporter": "python",
   "pygments_lexer": "ipython3",
   "version": "3.8.8"
  }
 },
 "nbformat": 4,
 "nbformat_minor": 5
}
