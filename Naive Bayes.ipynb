{
 "cells": [
  {
   "cell_type": "code",
   "execution_count": 12,
   "id": "0f082b2d",
   "metadata": {},
   "outputs": [],
   "source": [
    "from sklearn.model_selection import train_test_split\n",
    "import pandas as pd\n",
    "from sklearn.naive_bayes import GaussianNB\n",
    "from sklearn import metrics"
   ]
  },
  {
   "cell_type": "code",
   "execution_count": 13,
   "id": "ca1ae340",
   "metadata": {},
   "outputs": [
    {
     "name": "stdout",
     "output_type": "stream",
     "text": [
      "    0  1  2  3   4\n",
      "0   1  1  1  1   5\n",
      "1   1  1  1  2   5\n",
      "2   2  1  1  2  10\n",
      "3   3  2  1  1  10\n",
      "4   3  3  2  1  10\n",
      "5   3  3  2  2   5\n",
      "6   2  3  2  2  10\n",
      "7   1  2  1  1   5\n",
      "8   1  3  2  1  10\n",
      "9   3  2  2  2  10\n",
      "10  1  2  2  2  10\n",
      "11  2  2  1  2  10\n",
      "12  2  1  2  1  10\n",
      "13  3  2  1  2   5\n",
      "14  1  2  1  2  10\n",
      "15  1  2  1  2   5\n"
     ]
    }
   ],
   "source": [
    "data = pd.read_csv ('dataset.csv', header = None)\n",
    "print(data)"
   ]
  },
  {
   "cell_type": "code",
   "execution_count": 14,
   "id": "bc5ae8ff",
   "metadata": {},
   "outputs": [
    {
     "name": "stdout",
     "output_type": "stream",
     "text": [
      "[[1, 1, 1, 1], [1, 1, 1, 2], [2, 1, 1, 2], [3, 2, 1, 1], [3, 3, 2, 1], [3, 3, 2, 2], [2, 3, 2, 2], [1, 2, 1, 1], [1, 3, 2, 1], [3, 2, 2, 2], [1, 2, 2, 2], [2, 2, 1, 2], [2, 1, 2, 1], [3, 2, 1, 2], [1, 2, 1, 2], [1, 2, 1, 2]]\n"
     ]
    }
   ],
   "source": [
    "X = data[[0,1,2,3]].values.tolist()\n",
    "print(X)"
   ]
  },
  {
   "cell_type": "code",
   "execution_count": 16,
   "id": "960b2f55",
   "metadata": {},
   "outputs": [
    {
     "name": "stdout",
     "output_type": "stream",
     "text": [
      "[5, 5, 10, 10, 10, 5, 10, 5, 10, 10, 10, 10, 10, 5, 10, 5]\n"
     ]
    }
   ],
   "source": [
    "Y = data[4].values.tolist()\n",
    "print(Y)"
   ]
  },
  {
   "cell_type": "code",
   "execution_count": 18,
   "id": "52f529fa",
   "metadata": {},
   "outputs": [
    {
     "name": "stdout",
     "output_type": "stream",
     "text": [
      "[[1, 3, 2, 1], [3, 2, 2, 2], [3, 2, 1, 2], [3, 3, 2, 1], [2, 1, 1, 2], [1, 2, 1, 2], [1, 2, 2, 2], [1, 2, 1, 1], [1, 2, 1, 2], [2, 2, 1, 2], [3, 2, 1, 1], [1, 1, 1, 1], [3, 3, 2, 2], [2, 1, 2, 1]]\n"
     ]
    }
   ],
   "source": [
    "x_train,x_test,y_train,y_test = train_test_split(X,Y,test_size = 0.10,random_state = 0)\n",
    "print(x_train)"
   ]
  },
  {
   "cell_type": "code",
   "execution_count": 22,
   "id": "f700191f",
   "metadata": {},
   "outputs": [
    {
     "name": "stdout",
     "output_type": "stream",
     "text": [
      "total instances 16\n",
      "total attributes 4\n",
      "training examples = 14\n",
      "testing examples = 2\n"
     ]
    }
   ],
   "source": [
    "print(\"total instances\", len(X))\n",
    "print(\"total attributes\", len(X[0]))\n",
    "print(\"training examples = {0}\\ntesting examples = {1}\".format(len(x_train),(len(x_test))))"
   ]
  },
  {
   "cell_type": "code",
   "execution_count": 24,
   "id": "5da745d1",
   "metadata": {},
   "outputs": [
    {
     "name": "stdout",
     "output_type": "stream",
     "text": [
      "[ 5 10]\n",
      "[5, 10]\n",
      "1.0\n"
     ]
    }
   ],
   "source": [
    "gnb = GaussianNB()\n",
    "gnb.fit(x_train,y_train)\n",
    "y_pred = gnb.predict(x_test)\n",
    "print(y_pred)\n",
    "print(y_test)\n",
    "print(metrics.accuracy_score(y_test,y_pred))"
   ]
  }
 ],
 "metadata": {
  "kernelspec": {
   "display_name": "Python 3 (ipykernel)",
   "language": "python",
   "name": "python3"
  },
  "language_info": {
   "codemirror_mode": {
    "name": "ipython",
    "version": 3
   },
   "file_extension": ".py",
   "mimetype": "text/x-python",
   "name": "python",
   "nbconvert_exporter": "python",
   "pygments_lexer": "ipython3",
   "version": "3.8.8"
  }
 },
 "nbformat": 4,
 "nbformat_minor": 5
}
